{
 "cells": [
  {
   "cell_type": "markdown",
   "metadata": {},
   "source": [
    "# Regex"
   ]
  },
  {
   "cell_type": "code",
   "execution_count": 1,
   "metadata": {},
   "outputs": [],
   "source": [
    "import re"
   ]
  },
  {
   "cell_type": "markdown",
   "metadata": {},
   "source": [
    "`[]`: a set of character\n",
    "- `[,.]`: returns a match where one of the specified characters (`.`, `,`) are present\n",
    "- `[^abc]`: returns a match for any letter EXCEPT `a`, `b`, `c`\n",
    "  - `^arm`: return a match if the string starts with `arm`\n",
    "- `[0-5][0-9]`\treturns a match for any two-digit numbers from 00 and 59\n",
    "\n",
    "`\\`: special character\n",
    "- `\\w`: match if the string has any word characters (`a-Z`, `0-9`, `_`)\n",
    "- `\\W`: match if the string doesn't have any word characters"
   ]
  },
  {
   "cell_type": "markdown",
   "metadata": {},
   "source": [
    "re.split(pattern, string): split the string by occurrence of pattern"
   ]
  },
  {
   "cell_type": "code",
   "execution_count": 3,
   "metadata": {},
   "outputs": [
    {
     "data": {
      "text/plain": [
       "['+1', '001', '0111', '1001']"
      ]
     },
     "execution_count": 3,
     "metadata": {},
     "output_type": "execute_result"
    }
   ],
   "source": [
    "re.split(r'-', '+1-001-0111-1001')"
   ]
  },
  {
   "cell_type": "code",
   "execution_count": 4,
   "metadata": {},
   "outputs": [
    {
     "data": {
      "text/plain": [
       "['+1', '001', '0111', '1001']"
      ]
     },
     "execution_count": 4,
     "metadata": {},
     "output_type": "execute_result"
    }
   ],
   "source": [
    "s = '+1-001-0111-1001'\n",
    "s.split('-')"
   ]
  },
  {
   "cell_type": "code",
   "execution_count": 5,
   "metadata": {},
   "outputs": [
    {
     "data": {
      "text/plain": [
       "['1', '000', '000', '001']"
      ]
     },
     "execution_count": 5,
     "metadata": {},
     "output_type": "execute_result"
    }
   ],
   "source": [
    "# split all occurrence of `.`, `,`\n",
    "re.split(r'[.,]', '1,000,000.001')"
   ]
  },
  {
   "cell_type": "markdown",
   "metadata": {},
   "source": [
    "re group\n",
    "\n",
    "- `()`: matches the expression inside the parentheses and groups it\n",
    "- `(?)`: ? acts as a extension notation. Its meaning depends on the character immediately to its right.\n",
    "- `{m}`: aatches the expression to its left at least m times.\n",
    "- `(?<=B)A`: positive lookbehind assertion. This matches the expression A only if B is immediately to its left."
   ]
  },
  {
   "cell_type": "code",
   "execution_count": 48,
   "metadata": {},
   "outputs": [
    {
     "name": "stdout",
     "output_type": "stream",
     "text": [
      "['ee', 'Ioo', 'Oeo', 'eeeee']\n"
     ]
    }
   ],
   "source": [
    "# find all the substrings that contains 2 or more vowels\n",
    "s = 'rabcdeefgyYhFjkIoomnpOeorteeeeet'\n",
    "\n",
    "res = []\n",
    "i = 0\n",
    "while i < len(s): \n",
    "    if s[i] in ['a', 'e', 'i', 'o', 'u', 'A', 'E', 'I', 'O', 'U']:\n",
    "        j = i + 1\n",
    "        while s[j] in ['a', 'e', 'i', 'o', 'u', 'A', 'E', 'I', 'O', 'U']:\n",
    "            j += 1\n",
    "        if j - i >= 2:\n",
    "            res.append(s[i:j])\n",
    "        i = j\n",
    "    else:\n",
    "        i += 1\n",
    "print(res)"
   ]
  },
  {
   "cell_type": "code",
   "execution_count": 47,
   "metadata": {},
   "outputs": [
    {
     "data": {
      "text/plain": [
       "['ee', 'Ioo', 'Oeo', 'eeeee']"
      ]
     },
     "execution_count": 47,
     "metadata": {},
     "output_type": "execute_result"
    }
   ],
   "source": [
    "# use regex\n",
    "# https://www.hackerrank.com/challenges/re-findall-re-finditer/forum\n",
    "\n",
    "vowel = 'aeiou'\n",
    "consonant = \"qwrtypsdfghjklzxcvbnm\"\n",
    "res = re.findall(r'(?<=[%s])([%s]{2,})[%s]' % (consonant, vowel, consonant), s, flags=re.I)\n",
    "res\n"
   ]
  },
  {
   "cell_type": "markdown",
   "metadata": {},
   "source": [
    "## Reference\n",
    "\n",
    "- https://www.w3schools.com/python/python_regex.asp\n",
    "- https://www.hackerrank.com/dashboard\n",
    "- https://www.dataquest.io/wp-content/uploads/2019/03/python-regular-expressions-cheat-sheet.pdf"
   ]
  },
  {
   "cell_type": "markdown",
   "metadata": {},
   "source": []
  }
 ],
 "metadata": {
  "interpreter": {
   "hash": "aee8b7b246df8f9039afb4144a1f6fd8d2ca17a180786b69acc140d282b71a49"
  },
  "kernelspec": {
   "display_name": "Python 3.7.9 64-bit",
   "language": "python",
   "name": "python3"
  },
  "language_info": {
   "codemirror_mode": {
    "name": "ipython",
    "version": 3
   },
   "file_extension": ".py",
   "mimetype": "text/x-python",
   "name": "python",
   "nbconvert_exporter": "python",
   "pygments_lexer": "ipython3",
   "version": "3.8.8"
  },
  "orig_nbformat": 4
 },
 "nbformat": 4,
 "nbformat_minor": 2
}
