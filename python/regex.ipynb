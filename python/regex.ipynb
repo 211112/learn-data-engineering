{
 "cells": [
  {
   "cell_type": "markdown",
   "metadata": {},
   "source": [
    "# Regex"
   ]
  },
  {
   "cell_type": "code",
   "execution_count": 2,
   "metadata": {},
   "outputs": [],
   "source": [
    "import re"
   ]
  },
  {
   "cell_type": "markdown",
   "metadata": {},
   "source": [
    "Anchors\n",
    "\n",
    "- line anchors\n",
    "  - `^`: startswith expression before it experiences a line break (match to the start of line)\n",
    "  - `$`: endswith expression before it experiences a line break (match to the end of line)\n",
    "- string anchors\n",
    "  - `\\A`: startswith expression (match to the start of string, fit for multi-line string)\n",
    "  - `\\Z`: endswith expression (match to the end of string, fit for multi-line string)"
   ]
  },
  {
   "cell_type": "code",
   "execution_count": 25,
   "metadata": {},
   "outputs": [
    {
     "name": "stdout",
     "output_type": "stream",
     "text": [
      "True\n",
      "False\n"
     ]
    }
   ],
   "source": [
    "s = 'hi hello\\ntop spot' #\\n: line break\n",
    "\n",
    "# re.M: flag to treat input as multiline string\n",
    "print(bool(re.search(r'hello$', s, flags=re.M))) \n",
    "print(bool(re.search(r'hello\\Z', s)))"
   ]
  },
  {
   "attachments": {},
   "cell_type": "markdown",
   "metadata": {},
   "source": [
    "`[]`: a set of character, each char in `[]` is treated as an individual RE\n",
    "- `[,.]`: returns a match where one of the specified characters (`.`, `,`) are present\n",
    "- `[^abc]`: returns a match for any letter EXCEPT `a`, `b`, `c`\n",
    "  - `[^]`: invert selection\n",
    "- `[0-5][0-9]`\treturns a match for any two-digit numbers from 00 and 59\n",
    "\n",
    "`\\`: special character\n",
    "- `\\w`: match if the string has any word characters (`a-Z`, `0-9`, `_`)\n",
    "- `\\W`: match if the string doesn't have any word characters\n",
    "- `\\d` = `[0-9]`\n",
    "- `\\D` = `[^0-9]` or `[^\\d]`\n",
    "- `\\s`: match whitespace character\n",
    "- `\\S`: match non-whitespace character\n",
    "\n",
    "`.`: zero or more\n",
    "- if want to find actual dot `.`, then need to add `backslash` before the `.`\n",
    "\n",
    "`+`: one or more\n",
    "\n",
    "`?`: zero or \n",
    "- `re.compile(\"https?://(www\\.)?([a-zA-Z]+)\\.([a-zA-Z]+)\")`\n",
    "  - s?: s is optional char\n",
    "  - (www\\.)?: `www.` is optional group"
   ]
  },
  {
   "cell_type": "code",
   "execution_count": 72,
   "metadata": {},
   "outputs": [
    {
     "name": "stdout",
     "output_type": "stream",
     "text": [
      "['w', 'esss', '3']\n",
      "['*&', '^', '%%$#']\n"
     ]
    }
   ],
   "source": [
    "s = '*&w^esss%%$#3'\n",
    "print(re.findall(r'\\w+', s))\n",
    "print(re.findall(r'\\W+', s))"
   ]
  },
  {
   "cell_type": "code",
   "execution_count": 75,
   "metadata": {},
   "outputs": [
    {
     "name": "stdout",
     "output_type": "stream",
     "text": [
      "['\\t', '\\n', '\\r', '\\x0c', '\\x0b', ' ']\n",
      "['s', 's', 's', 's', 'd', 'e', 'e', 'e', 'e', 's', 'w']\n"
     ]
    }
   ],
   "source": [
    "s = '\\t\\n\\r\\f\\v ssssdeeeesw'\n",
    "print(re.findall(r'\\s', s))\n",
    "print(re.findall(r'\\S', s))"
   ]
  },
  {
   "cell_type": "markdown",
   "metadata": {},
   "source": [
    "re.split(pattern, string): split the string by occurrence of pattern"
   ]
  },
  {
   "cell_type": "code",
   "execution_count": 3,
   "metadata": {},
   "outputs": [
    {
     "data": {
      "text/plain": [
       "['+1', '001', '0111', '1001']"
      ]
     },
     "execution_count": 3,
     "metadata": {},
     "output_type": "execute_result"
    }
   ],
   "source": [
    "re.split(r'-', '+1-001-0111-1001')"
   ]
  },
  {
   "cell_type": "code",
   "execution_count": 4,
   "metadata": {},
   "outputs": [
    {
     "data": {
      "text/plain": [
       "['+1', '001', '0111', '1001']"
      ]
     },
     "execution_count": 4,
     "metadata": {},
     "output_type": "execute_result"
    }
   ],
   "source": [
    "s = '+1-001-0111-1001'\n",
    "s.split('-')"
   ]
  },
  {
   "cell_type": "code",
   "execution_count": 26,
   "metadata": {},
   "outputs": [
    {
     "data": {
      "text/plain": [
       "['1', '000', '000', '001']"
      ]
     },
     "execution_count": 26,
     "metadata": {},
     "output_type": "execute_result"
    }
   ],
   "source": [
    "# split all occurrence of `.`, `,`\n",
    "re.split(r'[.|,]', '1,000,000.001')"
   ]
  },
  {
   "attachments": {},
   "cell_type": "markdown",
   "metadata": {},
   "source": [
    "re group\n",
    "\n",
    "- `()`: matches the expression inside the parentheses and groups it\n",
    "  - `a(?:b|c)d = (abd|acd)`\n",
    "- `(?)`: ? acts as a extension notation. Its meaning depends on the character immediately to its right.\n",
    "- `(?P<name>string)`: named capture group\n",
    "  - retrieve named group key/value pair from `re.match(pattern, string).groupdict()[key]`\n",
    "- `{m,n}`: matches the expression to its left at least m times up to n times (inclusive).\n",
    "  - `{,n}`: from 0 to n times\n",
    "  - `{n}`: match exactly n times\n",
    "- `(?<=B)A`: positive lookbehind assertion. This matches the expression A only if B is immediately to its left."
   ]
  },
  {
   "cell_type": "code",
   "execution_count": 64,
   "metadata": {},
   "outputs": [
    {
     "data": {
      "text/plain": [
       "<re.Match object; span=(0, 6), match='parrot'>"
      ]
     },
     "execution_count": 64,
     "metadata": {},
     "output_type": "execute_result"
    }
   ],
   "source": [
    "pattern = r'\\bpar(en|ro)?t\\b'\n",
    "s = 'parrot'\n",
    "re.match(pattern, s)"
   ]
  },
  {
   "cell_type": "code",
   "execution_count": 49,
   "metadata": {},
   "outputs": [
    {
     "data": {
      "text/plain": [
       "['handye', 'handfule']"
      ]
     },
     "execution_count": 49,
     "metadata": {},
     "output_type": "execute_result"
    }
   ],
   "source": [
    "re.findall(r'hand(?:y|ful)e', '123handed42handye777handfule500')"
   ]
  },
  {
   "cell_type": "code",
   "execution_count": 65,
   "metadata": {},
   "outputs": [
    {
     "data": {
      "text/plain": [
       "{'first': 'Jane', 'last': 'Doe'}"
      ]
     },
     "execution_count": 65,
     "metadata": {},
     "output_type": "execute_result"
    }
   ],
   "source": [
    "m = re.match(r'(?P<first>\\w+) (?P<last>\\w+)', 'Jane Doe')\n",
    "m.groupdict()"
   ]
  },
  {
   "cell_type": "code",
   "execution_count": 48,
   "metadata": {},
   "outputs": [
    {
     "name": "stdout",
     "output_type": "stream",
     "text": [
      "['ee', 'Ioo', 'Oeo', 'eeeee']\n"
     ]
    }
   ],
   "source": [
    "# find all the substrings that contains 2 or more vowels\n",
    "s = 'rabcdeefgyYhFjkIoomnpOeorteeeeet'\n",
    "\n",
    "res = []\n",
    "i = 0\n",
    "while i < len(s): \n",
    "    if s[i] in ['a', 'e', 'i', 'o', 'u', 'A', 'E', 'I', 'O', 'U']:\n",
    "        j = i + 1\n",
    "        while s[j] in ['a', 'e', 'i', 'o', 'u', 'A', 'E', 'I', 'O', 'U']:\n",
    "            j += 1\n",
    "        if j - i >= 2:\n",
    "            res.append(s[i:j])\n",
    "        i = j\n",
    "    else:\n",
    "        i += 1\n",
    "print(res)"
   ]
  },
  {
   "cell_type": "code",
   "execution_count": 47,
   "metadata": {},
   "outputs": [
    {
     "data": {
      "text/plain": [
       "['ee', 'Ioo', 'Oeo', 'eeeee']"
      ]
     },
     "execution_count": 47,
     "metadata": {},
     "output_type": "execute_result"
    }
   ],
   "source": [
    "# use regex\n",
    "# https://www.hackerrank.com/challenges/re-findall-re-finditer/forum\n",
    "\n",
    "vowel = 'aeiou'\n",
    "consonant = \"qwrtypsdfghjklzxcvbnm\"\n",
    "res = re.findall(r'(?<=[%s])([%s]{2,})[%s]' % (consonant, vowel, consonant), s, flags=re.I)\n",
    "res\n"
   ]
  },
  {
   "cell_type": "markdown",
   "metadata": {},
   "source": [
    "## Reference\n",
    "\n",
    "- https://www.w3schools.com/python/python_regex.asp\n",
    "- https://www.hackerrank.com/dashboard\n",
    "- https://www.dataquest.io/wp-content/uploads/2019/03/python-regular-expressions-cheat-sheet.pdf\n",
    "- https://learnbyexample.github.io/python-regex-cheatsheet/"
   ]
  },
  {
   "cell_type": "code",
   "execution_count": null,
   "metadata": {},
   "outputs": [],
   "source": []
  },
  {
   "cell_type": "code",
   "execution_count": null,
   "metadata": {},
   "outputs": [],
   "source": []
  },
  {
   "cell_type": "markdown",
   "metadata": {},
   "source": []
  }
 ],
 "metadata": {
  "interpreter": {
   "hash": "aee8b7b246df8f9039afb4144a1f6fd8d2ca17a180786b69acc140d282b71a49"
  },
  "kernelspec": {
   "display_name": "Python 3.7.9 64-bit",
   "language": "python",
   "name": "python3"
  },
  "language_info": {
   "codemirror_mode": {
    "name": "ipython",
    "version": 3
   },
   "file_extension": ".py",
   "mimetype": "text/x-python",
   "name": "python",
   "nbconvert_exporter": "python",
   "pygments_lexer": "ipython3",
   "version": "3.7.9"
  },
  "orig_nbformat": 4
 },
 "nbformat": 4,
 "nbformat_minor": 2
}
