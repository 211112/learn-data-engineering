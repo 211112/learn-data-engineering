{
 "cells": [
  {
   "cell_type": "code",
   "execution_count": 1,
   "metadata": {},
   "outputs": [],
   "source": [
    "from collections import *"
   ]
  },
  {
   "cell_type": "markdown",
   "metadata": {},
   "source": [
    "## Counters\n",
    "\n",
    "- count occurrences of elements inside an iterable (tuple, list, dict, etc)\n",
    "- return an unordered dict {element: counts}\n",
    "- use cases: find the most common elements\n",
    "  - `.most_common(n)`: List the n most common elements and their counts from the most common to the least. if n is None, then rank all the element in descending order\n"
   ]
  },
  {
   "cell_type": "code",
   "execution_count": 7,
   "metadata": {},
   "outputs": [
    {
     "name": "stdout",
     "output_type": "stream",
     "text": [
      "Counter({2: 5, 3: 2, 5: 2, 1: 1, 34: 1, 4: 1, 6: 1})\n"
     ]
    }
   ],
   "source": [
    "cnt = Counter([1,2,2,2,2,3,3,34,5,2,4,5,6])\n",
    "print(cnt)"
   ]
  },
  {
   "cell_type": "code",
   "execution_count": 6,
   "metadata": {},
   "outputs": [
    {
     "data": {
      "text/plain": [
       "Counter({'A': 3, 'B': 5, 'C': 2})"
      ]
     },
     "execution_count": 6,
     "metadata": {},
     "output_type": "execute_result"
    }
   ],
   "source": [
    "Counter({'A':3, 'B':5, 'C':2})"
   ]
  },
  {
   "cell_type": "code",
   "execution_count": 18,
   "metadata": {},
   "outputs": [
    {
     "data": {
      "text/plain": [
       "[(2, 5)]"
      ]
     },
     "execution_count": 18,
     "metadata": {},
     "output_type": "execute_result"
    }
   ],
   "source": [
    "# find most common items\n",
    "cnt.most_common(1) # most common items: 2, frequency: 5"
   ]
  },
  {
   "cell_type": "markdown",
   "metadata": {},
   "source": [
    "## OrderedDict, defaultdict\n",
    "\n",
    "- `OrderedDict()`: \n",
    "  - remembers the order in which the keys were inserted\n",
    "- `defaultdict(default_factory)`:\n",
    "  - provide defaul valeus for the keys that don't exist and never raises the error\n",
    "  - `default_factory` required parameter, if missed, it throws a KeyError\n",
    "    - can pass the data type as an argument -> the value will be initialized with the data type we pass"
   ]
  },
  {
   "cell_type": "code",
   "execution_count": 24,
   "metadata": {},
   "outputs": [
    {
     "name": "stdout",
     "output_type": "stream",
     "text": [
      "\n",
      "This is an Ordered Dict:\n",
      "\n",
      "a 1\n",
      "b 2\n",
      "c 3\n",
      "d 4\n"
     ]
    }
   ],
   "source": [
    "\n",
    "print(\"\\nThis is an Ordered Dict:\\n\")\n",
    "od = OrderedDict()\n",
    "od['a'] = 1\n",
    "od['b'] = 2\n",
    "od['c'] = 3\n",
    "od['d'] = 4\n",
    " \n",
    "for key, value in od.items():\n",
    "    print(key, value)"
   ]
  },
  {
   "cell_type": "code",
   "execution_count": 27,
   "metadata": {},
   "outputs": [
    {
     "name": "stdout",
     "output_type": "stream",
     "text": [
      "Dictionary with values as list:\n",
      "defaultdict(<class 'list'>, {0: [0], 1: [1], 2: [2], 3: [3], 4: [4]})\n"
     ]
    }
   ],
   "source": [
    "# Defining a dict\n",
    "d = defaultdict(list) # {key: []}\n",
    "  \n",
    "for i in range(5):\n",
    "    d[i].append(i)\n",
    "      \n",
    "print(\"Dictionary with values as list:\")\n",
    "print(d)"
   ]
  },
  {
   "cell_type": "markdown",
   "metadata": {},
   "source": [
    "## Deque\n",
    "\n",
    "- optimized list for quick append, pop from both sides\n",
    "- insert: O(1)\n",
    "  - insert elements from right: `append()`\n",
    "  - insert elements ffrom left: `appendleft()`\n",
    "- remove: O(1)\n",
    "  - remove from right: `pop()`\n",
    "  - remove from left: `popleft()`"
   ]
  },
  {
   "cell_type": "code",
   "execution_count": 28,
   "metadata": {},
   "outputs": [
    {
     "name": "stdout",
     "output_type": "stream",
     "text": [
      "after appending 4 to the right:de becomes deque([3, 1, 5, 6, 4])\n",
      "after appending 0 to the left: de becomes deque([0, 3, 1, 5, 6, 4])\n"
     ]
    }
   ],
   "source": [
    "de = deque([3,1,5,6])\n",
    "de.append(4)\n",
    "print(f'after appending 4 to the right:de becomes {de}')\n",
    "de.appendleft(0)\n",
    "print(f'after appending 0 to the left: de becomes {de}')"
   ]
  },
  {
   "cell_type": "markdown",
   "metadata": {},
   "source": [
    "## Reference\n",
    "\n",
    "1. https://www.geeksforgeeks.org/python-collections-module/"
   ]
  }
 ],
 "metadata": {
  "interpreter": {
   "hash": "cd78fef2128015050713e82ca51c6520b11aee7c9ee8df750520bbbc7384cbaa"
  },
  "kernelspec": {
   "display_name": "Python 3.8.8 ('base')",
   "language": "python",
   "name": "python3"
  },
  "language_info": {
   "codemirror_mode": {
    "name": "ipython",
    "version": 3
   },
   "file_extension": ".py",
   "mimetype": "text/x-python",
   "name": "python",
   "nbconvert_exporter": "python",
   "pygments_lexer": "ipython3",
   "version": "3.8.8"
  },
  "orig_nbformat": 4
 },
 "nbformat": 4,
 "nbformat_minor": 2
}
